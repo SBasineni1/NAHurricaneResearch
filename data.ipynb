{
 "cells": [
  {
   "cell_type": "code",
   "execution_count": 14,
   "metadata": {},
   "outputs": [
    {
     "name": "stderr",
     "output_type": "stream",
     "text": [
      "C:\\Users\\basin\\AppData\\Local\\Temp\\ipykernel_5724\\2740554879.py:4: DtypeWarning: Columns (23) have mixed types. Specify dtype option on import or set low_memory=False.\n",
      "  df = pd.read_csv('HurricaneData\\ibtracs.NA.list.v04r00.csv')\n"
     ]
    },
    {
     "name": "stdout",
     "output_type": "stream",
     "text": [
      "                 SID  SEASON  NUMBER BASIN SUBBASIN     NAME  \\\n",
      "62     1950224N17305    1950      58   NaN      NaN     ABLE   \n",
      "192    1950231N12306    1950      63   NaN       GM    BAKER   \n",
      "296    1950234N11334    1950      65   NaN      NaN  CHARLIE   \n",
      "383    1950243N15304    1950      68   NaN      NaN      DOG   \n",
      "518    1950244N20277    1950      69   NaN       GM     EASY   \n",
      "...              ...     ...     ...   ...      ...      ...   \n",
      "63709  2023239N21274    2023      46   NaN       GM   IDALIA   \n",
      "63967  2023249N12320    2023      52   NaN      NaN      LEE   \n",
      "64099  2023251N15334    2023      54   NaN      NaN   MARGOT   \n",
      "64180  2023258N14318    2023      55   NaN      NaN    NIGEL   \n",
      "64479  2023292N13309    2023      70   NaN      NaN    TAMMY   \n",
      "\n",
      "                  ISO_TIME NATURE      LAT      LON  ...  USA_SEAHGT  \\\n",
      "62     1950-08-19 18:00:00     TS  31.7000 -75.5000  ...               \n",
      "192    1950-08-30 00:00:00     TS  24.7000 -88.6000  ...               \n",
      "296    1950-08-31 12:00:00     TS  32.8000 -56.7000  ...               \n",
      "383    1950-09-05 12:00:00     TS  24.6000 -67.7000  ...               \n",
      "518    1950-09-05 06:00:00     TS  28.5000 -83.3000  ...               \n",
      "...                    ...    ...      ...      ...  ...         ...   \n",
      "63709  2023-08-29 06:00:00     TS  22.6000 -85.0000  ...          12   \n",
      "63967  2023-09-06 18:00:00     TS  14.6000 -46.0500  ...          12   \n",
      "64099  2023-09-11 18:00:00     TS  26.4500 -39.8500  ...          12   \n",
      "64180  2023-09-18 06:00:00     TS  26.0667 -50.4667  ...          12   \n",
      "64479  2023-10-20 18:00:00     TS  14.1000 -58.9000  ...          12   \n",
      "\n",
      "      USA_SEARAD_NE USA_SEARAD_SE USA_SEARAD_SW  USA_SEARAD_NW STORM_SPEED  \\\n",
      "62                                                                      10   \n",
      "192                                                                      8   \n",
      "296                                                                      4   \n",
      "383                                                                      7   \n",
      "518                                                                      5   \n",
      "...             ...           ...           ...            ...         ...   \n",
      "63709           120           120            60             60          10   \n",
      "63967           120            90            30             60          12   \n",
      "64099           180           180           150            180          10   \n",
      "64180           210           180           180            150           9   \n",
      "64479           270           180            90            270           7   \n",
      "\n",
      "      STORM_DIR Month ENSO_Value_x  ENSO_Value_y  \n",
      "62            5   Aug         1.07          1.07  \n",
      "192         347   Aug         1.07          1.07  \n",
      "296         271   Aug         1.07          1.07  \n",
      "383         325   Sep         1.32          1.32  \n",
      "518          42   Sep         1.32          1.32  \n",
      "...         ...   ...          ...           ...  \n",
      "63709        10   Aug         1.32          1.32  \n",
      "63967       302   Sep         1.56          1.56  \n",
      "64099        10   Sep         1.56          1.56  \n",
      "64180       326   Sep         1.56          1.56  \n",
      "64479       293   Oct         1.78          1.78  \n",
      "\n",
      "[482 rows x 62 columns]\n"
     ]
    }
   ],
   "source": [
    "import pandas as pd\n",
    "\n",
    "# Read data from CSV file\n",
    "df = pd.read_csv('HurricaneData\\ibtracs.NA.list.v04r00.csv')\n",
    "\n",
    "# Ensure 'WMO_WIND' is numeric and handle missing values by filling them with a value that won't affect max calculation (e.g., -1)\n",
    "df['USA_WIND'] = pd.to_numeric(df['USA_WIND'], errors='coerce').fillna(-1)\n",
    "\n",
    "# Filter rows where 'USA_SSHS' > 1\n",
    "filtered_df = df[df['USA_SSHS'] >= 1]\n",
    "\n",
    "# Group by 'SID' and find the row with the highest 'WMO_WIND' for each unique SID\n",
    "highest_windspeed_per_sid = filtered_df.loc[filtered_df.groupby('SID')['USA_WIND'].idxmax()]\n",
    "\n",
    "# Display the result\n",
    "print(highest_windspeed_per_sid)\n",
    "\n",
    "highest_windspeed_per_sid .to_csv('HurricaneData/hurricaneOne.csv', index=False)\n",
    "\n",
    "\n"
   ]
  }
 ],
 "metadata": {
  "kernelspec": {
   "display_name": "Python 3",
   "language": "python",
   "name": "python3"
  },
  "language_info": {
   "codemirror_mode": {
    "name": "ipython",
    "version": 3
   },
   "file_extension": ".py",
   "mimetype": "text/x-python",
   "name": "python",
   "nbconvert_exporter": "python",
   "pygments_lexer": "ipython3",
   "version": "3.11.9"
  }
 },
 "nbformat": 4,
 "nbformat_minor": 2
}
